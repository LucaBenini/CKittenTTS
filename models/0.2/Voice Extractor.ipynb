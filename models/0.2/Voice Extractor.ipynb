{
 "cells": [
  {
   "cell_type": "code",
   "execution_count": 1,
   "id": "c70be92c-28a7-4b36-9e86-1a552338d1e0",
   "metadata": {},
   "outputs": [
    {
     "name": "stdout",
     "output_type": "stream",
     "text": [
      "Done.\n"
     ]
    }
   ],
   "source": [
    "import numpy as np\n",
    "\n",
    "# Load the npz file\n",
    "data = np.load(\"voices.npz\")\n",
    "\n",
    "# Iterate through all arrays inside\n",
    "for name in data.files:\n",
    "    arr = data[name]  # numpy array\n",
    "    # Convert to raw bytes\n",
    "    raw_bytes = arr.tobytes()\n",
    "    # Save as binary file\n",
    "    with open(f\"{name}.bin\", \"wb\") as f:\n",
    "        f.write(raw_bytes)\n",
    "\n",
    "print(\"Done.\")"
   ]
  },
  {
   "cell_type": "code",
   "execution_count": null,
   "id": "9c1c3214-aea6-4ce6-9b5e-0247e8d625b6",
   "metadata": {},
   "outputs": [],
   "source": []
  }
 ],
 "metadata": {
  "kernelspec": {
   "display_name": "Python 3 (ipykernel)",
   "language": "python",
   "name": "python3"
  },
  "language_info": {
   "codemirror_mode": {
    "name": "ipython",
    "version": 3
   },
   "file_extension": ".py",
   "mimetype": "text/x-python",
   "name": "python",
   "nbconvert_exporter": "python",
   "pygments_lexer": "ipython3",
   "version": "3.12.5"
  }
 },
 "nbformat": 4,
 "nbformat_minor": 5
}
